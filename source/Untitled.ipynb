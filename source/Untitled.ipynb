{
 "cells": [
  {
   "cell_type": "code",
   "execution_count": 3,
   "metadata": {
    "collapsed": false
   },
   "outputs": [
    {
     "name": "stdout",
     "output_type": "stream",
     "text": [
      "Checking genuity of the news below:\n",
      "Atak terrorystyczny w Londynie\n",
      "This is presumably true\n"
     ]
    }
   ],
   "source": [
    "run __init__.py http://www.polsatnews.pl/raport/atak-terrorystyczny-w-londynie_1492627/"
   ]
  },
  {
   "cell_type": "code",
   "execution_count": 4,
   "metadata": {
    "collapsed": false
   },
   "outputs": [
    {
     "name": "stdout",
     "output_type": "stream",
     "text": [
      "Checking genuity of the news below:\n",
      "Zbigniew Wodecki nie żyje. Znani żegnają muzyka\n",
      "This is presumably true\n"
     ]
    }
   ],
   "source": [
    "run __init__.py http://www.se.pl/rozrywka/gwiazdy/zbigniew-wodecki-nie-zyje-znani-zegnaja-muzyka_995333.html"
   ]
  },
  {
   "cell_type": "code",
   "execution_count": 6,
   "metadata": {
    "collapsed": false
   },
   "outputs": [
    {
     "name": "stdout",
     "output_type": "stream",
     "text": [
      "Checking genuity of the news below:\n",
      "The death of Donald Trump | The Simpsons' most creepy prediction | Amazing prediction\n",
      "This is presumably true\n"
     ]
    }
   ],
   "source": [
    "run __init__.py https://www.youtube.com/watch?v=kJjCn3h91gg"
   ]
  },
  {
   "cell_type": "code",
   "execution_count": null,
   "metadata": {
    "collapsed": true
   },
   "outputs": [],
   "source": [
    ""
   ]
  }
 ],
 "metadata": {
  "kernelspec": {
   "display_name": "Python 3",
   "language": "python",
   "name": "python3"
  },
  "language_info": {
   "codemirror_mode": {
    "name": "ipython",
    "version": 3.0
   },
   "file_extension": ".py",
   "mimetype": "text/x-python",
   "name": "python",
   "nbconvert_exporter": "python",
   "pygments_lexer": "ipython3",
   "version": "3.6.0"
  }
 },
 "nbformat": 4,
 "nbformat_minor": 0
}